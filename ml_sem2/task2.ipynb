{
 "cells": [
  {
   "cell_type": "markdown",
   "id": "13c0e548-0831-4696-a246-e26c6e6574ef",
   "metadata": {},
   "source": [
    "# Task 2. Date classification."
   ]
  },
  {
   "cell_type": "markdown",
   "id": "ac936c5f-77fd-4d4d-808e-9e2759cc0cb4",
   "metadata": {},
   "source": [
    "### Prerequisites\n",
    "\n",
    "[ARTM_TUTORIAL](https://github.com/bigartm/bigartm-book/blob/master/ARTM_tutorial_EN.ipynb)"
   ]
  },
  {
   "cell_type": "markdown",
   "id": "310132be",
   "metadata": {},
   "source": [
    "### Imports"
   ]
  },
  {
   "cell_type": "code",
   "execution_count": null,
   "id": "5f8ba245-d9f9-439e-8abb-dae0dda3dd82",
   "metadata": {},
   "outputs": [],
   "source": [
    "# necessary utils\n",
    "import numpy as np\n",
    "import pandas as pd\n",
    "import matplotlib.pyplot as plt\n",
    "import re\n",
    "from pathlib import Path\n",
    "\n",
    "\n",
    "# for progress bar\n",
    "from tqdm.notebook import tqdm\n",
    "\n",
    "# ml\n",
    "import sklearn\n",
    "from sklearn.utils import shuffle\n",
    "from sklearn.ensemble import RandomForestClassifier\n",
    "import torch\n",
    "from torch.utils.tensorboard import SummaryWriter\n",
    "\n",
    "# ARTM\n",
    "import artm"
   ]
  },
  {
   "cell_type": "markdown",
   "id": "33645554",
   "metadata": {},
   "source": [
    "### Get available device"
   ]
  },
  {
   "cell_type": "code",
   "execution_count": 11,
   "id": "17b92323-46a3-4dae-a721-f395d2a23b98",
   "metadata": {},
   "outputs": [
    {
     "name": "stdout",
     "output_type": "stream",
     "text": [
      "cuda:0\n"
     ]
    }
   ],
   "source": [
    "device = torch.device(\"cuda:0\" if torch.cuda.is_available() else \"cpu\")\n",
    "print(device)"
   ]
  },
  {
   "cell_type": "markdown",
   "id": "288fcdbc-6d69-4f1f-9401-0744d79237d5",
   "metadata": {},
   "source": [
    "## Loading dataset\n",
    "Note that dataset was conveniently preprocessed before."
   ]
  },
  {
   "cell_type": "code",
   "execution_count": 12,
   "id": "1fa4c021-0766-47c2-a5bc-1724bb667465",
   "metadata": {},
   "outputs": [],
   "source": [
    "dataset = pd.read_csv('./topicmodeling/lenta-ru-proccess.csv')"
   ]
  },
  {
   "cell_type": "markdown",
   "id": "7ffb6296-2d43-4be5-9caf-3dfe83ab1613",
   "metadata": {},
   "source": [
    "Нам надо сделать датасет с текстом и датой (годом), добавить модальности и сделать классификацию.\n",
    "Для этого я преобразую датасет"
   ]
  },
  {
   "cell_type": "markdown",
   "id": "21453ff4",
   "metadata": {},
   "source": [
    "Let's add folders for modified datasets."
   ]
  },
  {
   "cell_type": "code",
   "execution_count": 13,
   "id": "b6617022-22b4-4549-a1a6-48ed06a81d4f",
   "metadata": {},
   "outputs": [
    {
     "name": "stdout",
     "output_type": "stream",
     "text": [
      "mkdir: cannot create directory ‘taskmodeling’: File exists\n",
      "mkdir: cannot create directory ‘./taskmodeling/vw_data’: File exists\n"
     ]
    }
   ],
   "source": [
    "!mkdir taskmodeling\n",
    "!mkdir ./taskmodeling/vw_data"
   ]
  },
  {
   "cell_type": "markdown",
   "id": "31d2ead5",
   "metadata": {},
   "source": [
    "Now, let's add `year`, `month` and `topic` fields to dataset."
   ]
  },
  {
   "cell_type": "code",
   "execution_count": 14,
   "id": "77f85fc2-a443-4bde-90c7-92da5343223e",
   "metadata": {},
   "outputs": [
    {
     "data": {
      "application/vnd.jupyter.widget-view+json": {
       "model_id": "ccabc7938ba8482a8ab49fb0482d8967",
       "version_major": 2,
       "version_minor": 0
      },
      "text/plain": [
       "  0%|          | 0/863285 [00:00<?, ?it/s]"
      ]
     },
     "metadata": {},
     "output_type": "display_data"
    }
   ],
   "source": [
    "regex = re.compile(r'\\W+')\n",
    "\n",
    "DATASET_PATH = './taskmodeling/vw_data'\n",
    "STARTING_YEAR, FINISHING_YEAR = 1999, 2021\n",
    "\n",
    "def addMonthAndYear():\n",
    "    dstest  = open(f'{DATASET_PATH}/test_ds.txt',  'w')\n",
    "    dstrain = open(f'{DATASET_PATH}/train_ds.txt', 'w')\n",
    "    tr_i, t_i  = 0, 0\n",
    "    test_ans, train_ans = list(), list()\n",
    "    year_cnt = {year: 0 for year in range(STARTING_YEAR, FINISHING_YEAR)}\n",
    "    t_cnt = {year: 0 for year in range(STARTING_YEAR, FINISHING_YEAR)}\n",
    "\n",
    "    for instance in tqdm(range(len(dataset))):\n",
    "        unproc = (regex.sub(' ', dataset.loc[instance]['text']).strip()).split()\n",
    "        # get date\n",
    "        cur_date = dataset.loc[instance]['date']\n",
    "        cur_month, cur_year = cur_date.split('-')[1], cur_date.split('-')[2]\n",
    "        \n",
    "        # get topic\n",
    "        cur_topic =   str(dataset.loc[instance]['tags']).lower().strip()\n",
    "        text = ' '.join(unproc)\n",
    "\n",
    "        try:\n",
    "            if year_cnt[int(cur_year)] < 1000:\n",
    "                # write\n",
    "                dstrain.write(f'doc_{tr_i} {text} ')\n",
    "                dstrain.write(f'|@topic class_{cur_month} ')\n",
    "                dstrain.write(f'|@month class_{cur_topic} ')\n",
    "                dstrain.write(f'|@year class_{cur_year} ')\n",
    "                dstrain.write(f'\\n')\n",
    "\n",
    "                tr_i += 1\n",
    "                train_ans.append(cur_year)\n",
    "                \n",
    "                year_cnt[int(cur_year)] += 1\n",
    "            else:\n",
    "                if t_cnt[int(cur_year)] < 1000:\n",
    "                    # write \n",
    "                    dstest.write(f'doc_{tr_i} {text} ')\n",
    "                    dstest.write(f'|@topic class_{cur_month} ')\n",
    "                    dstest.write(f'|@month class_{cur_topic} ')\n",
    "                    dstest.write(f'\\n')\n",
    "                \n",
    "                    t_i += 1\n",
    "                    test_ans.append(cur_year)\n",
    "                \n",
    "                    t_cnt[int(cur_year)] += 1\n",
    "        except:\n",
    "            pass\n",
    "        \n",
    "    test_ans_file  = open(f'{DATASET_PATH}/test_ans.txt',  'w')\n",
    "    train_ans_file = open(f'{DATASET_PATH}/train_ans.txt', 'w')\n",
    "    test_ans_file.write('\\n'.join(test_ans))\n",
    "    train_ans_file.write('\\n'.join(test_ans))\n",
    "\n",
    "# modifying dataset\n",
    "addMonthAndYear()\n",
    "\n",
    "# opening results\n",
    "tst_ans  = open(f'{DATASET_PATH}/test_ans.txt').read().split('\\n')\n",
    "tr_ans = open(f'{DATASET_PATH}/train_ans.txt').read().split('\\n')"
   ]
  },
  {
   "cell_type": "markdown",
   "id": "4857bf39",
   "metadata": {},
   "source": [
    "Create batches folder"
   ]
  },
  {
   "cell_type": "code",
   "execution_count": 15,
   "id": "8b9459e8-e044-4e15-94b6-826b7a212af5",
   "metadata": {},
   "outputs": [
    {
     "name": "stdout",
     "output_type": "stream",
     "text": [
      "mkdir: cannot create directory ‘./taskmodeling/batches’: File exists\n",
      "test_batches  train_batches\n"
     ]
    }
   ],
   "source": [
    "BATCH_PT = './taskmodeling/batches'\n",
    "\n",
    "!mkdir ./taskmodeling/batches\n",
    "!ls ./taskmodeling/batches/"
   ]
  },
  {
   "cell_type": "code",
   "execution_count": 16,
   "id": "63fa5687-7b43-4e8f-bc94-74a4f7538023",
   "metadata": {},
   "outputs": [
    {
     "name": "stdout",
     "output_type": "stream",
     "text": [
      "test_batches  train_batches\n"
     ]
    }
   ],
   "source": [
    "def createBatchVectors():\n",
    "    batch_tr_path = Path(f'{BATCH_PT}/train_batches').resolve()    \n",
    "    if batch_tr_path.exists():\n",
    "        tr_bv = artm.BatchVectorizer(data_path=f'{BATCH_PT}/train_batches', data_format='batches')\n",
    "        tst_bv  = artm.BatchVectorizer(data_path=f'{BATCH_PT}/test_batches',  data_format='batches')\n",
    "    else:\n",
    "        tr_bv = artm.BatchVectorizer(\n",
    "            data_path=f'{DATASET_PATH}/train_ds.txt',\n",
    "            data_format='vowpal_wabbit',\n",
    "            batch_size=1000, \n",
    "            target_folder=f'{BATCH_PT}/train_batches'\n",
    "        )\n",
    "        \n",
    "        tst_bv = artm.BatchVectorizer(\n",
    "            data_path=f'{DATASET_PATH}/test_ds.txt',\n",
    "            data_format='vowpal_wabbit',\n",
    "            batch_size=1000,\n",
    "            target_folder=f'{BATCH_PT}/test_batches'\n",
    "        )\n",
    "\n",
    "    # return batch vectors\n",
    "    return tr_bv, tst_bv\n",
    "\n",
    "tr_bv, tst_bv = createBatchVectors()\n",
    "# check if everything was created\n",
    "!ls ./taskmodeling/batches/ "
   ]
  },
  {
   "cell_type": "markdown",
   "id": "a1a34d19-9363-40fe-97f9-9f012b928c1f",
   "metadata": {},
   "source": [
    "### Getting dictionary\n",
    "\n",
    "Now let's get `artm` dictionary for our model."
   ]
  },
  {
   "cell_type": "code",
   "execution_count": 17,
   "id": "edfde8a4-b3b7-4248-abed-de24fab7a126",
   "metadata": {},
   "outputs": [],
   "source": [
    "artm_dict = artm.Dictionary()\n",
    "artm_dict.gather(data_path=f'{BATCH_PT}/train_batches')"
   ]
  },
  {
   "cell_type": "markdown",
   "id": "b88287af-9032-4a01-aa62-4b3bbd3055d3",
   "metadata": {},
   "source": [
    "## Making model\n",
    "\n",
    "Let's set model path"
   ]
  },
  {
   "cell_type": "code",
   "execution_count": 18,
   "id": "6d441ae8-79cc-4ea1-8d31-c4a28346f42a",
   "metadata": {},
   "outputs": [],
   "source": [
    "!mkdir ./taskmodeling/model\n",
    "!ls ./taskmodeling/model\n",
    "\n",
    "ARTM_MODEL_PATH = './taskmodeling/model'"
   ]
  },
  {
   "cell_type": "markdown",
   "id": "918d81db-876d-4ecd-b025-eacf8c03cbd2",
   "metadata": {},
   "source": [
    "## Create default 'artm' model"
   ]
  },
  {
   "cell_type": "code",
   "execution_count": 19,
   "id": "1edb3142-4a66-4866-adb6-42c12ca52107",
   "metadata": {},
   "outputs": [],
   "source": [
    "default_writer = SummaryWriter(log_dir = f'./taskmodeling/model/log/default')\n",
    "\n",
    "artm_model = artm.ARTM(num_topics=96, dictionary=artm_dict, class_ids={'@default_class': 1.0,}, cache_theta=False)\n",
    "artm_model.scores.add(artm.PerplexityScore(name='PerplexityScore', dictionary=artm_dict))"
   ]
  },
  {
   "cell_type": "code",
   "execution_count": 20,
   "id": "8b5a1536-3319-4b74-ba82-e4436e8be0d6",
   "metadata": {},
   "outputs": [
    {
     "data": {
      "application/vnd.jupyter.widget-view+json": {
       "model_id": "62f2769e985543fc901579f1b071faa0",
       "version_major": 2,
       "version_minor": 0
      },
      "text/plain": [
       "  0%|          | 0/22000 [00:00<?, ?it/s]"
      ]
     },
     "metadata": {},
     "output_type": "display_data"
    },
    {
     "data": {
      "application/vnd.jupyter.widget-view+json": {
       "model_id": "e13d4c62dd6a4db5ac8eaf902678be6e",
       "version_major": 2,
       "version_minor": 0
      },
      "text/plain": [
       "  0%|          | 0/22000 [00:00<?, ?it/s]"
      ]
     },
     "metadata": {},
     "output_type": "display_data"
    },
    {
     "name": "stdout",
     "output_type": "stream",
     "text": [
      "              precision    recall  f1-score   support\n",
      "\n",
      "        1999       0.11      0.25      0.15      1000\n",
      "        2000       0.12      0.21      0.15      1000\n",
      "        2001       0.09      0.12      0.11      1000\n",
      "        2002       0.08      0.10      0.09      1000\n",
      "        2003       0.10      0.11      0.10      1000\n",
      "        2004       0.08      0.09      0.08      1000\n",
      "        2005       0.12      0.12      0.12      1000\n",
      "        2006       0.07      0.06      0.07      1000\n",
      "        2007       0.06      0.05      0.05      1000\n",
      "        2008       0.07      0.06      0.06      1000\n",
      "        2009       0.12      0.09      0.10      1000\n",
      "        2010       0.06      0.05      0.06      1000\n",
      "        2011       0.09      0.07      0.08      1000\n",
      "        2012       0.09      0.06      0.07      1000\n",
      "        2013       0.08      0.07      0.08      1000\n",
      "        2014       0.07      0.06      0.07      1000\n",
      "        2015       0.15      0.12      0.13      1000\n",
      "        2016       0.10      0.09      0.10      1000\n",
      "        2017       0.14      0.11      0.12      1000\n",
      "        2018       0.14      0.12      0.13      1000\n",
      "        2019       0.10      0.07      0.08      1000\n",
      "        2020       0.30      0.13      0.18      1000\n",
      "\n",
      "    accuracy                           0.10     22000\n",
      "   macro avg       0.11      0.10      0.10     22000\n",
      "weighted avg       0.11      0.10      0.10     22000\n",
      "\n"
     ]
    }
   ],
   "source": [
    "for instance in range(25):\n",
    "    artm_model.fit_offline(tr_bv, num_collection_passes=1)\n",
    "    val = artm_model.score_tracker['PerplexityScore'].value[-1]\n",
    "    default_writer.add_scalar('PerplexityScore/train', val, 0)\n",
    "\n",
    "# save model\n",
    "artm_model.dump_artm_model(f'{ARTM_MODEL_PATH}/default')\n",
    "\n",
    "\n",
    "# transform and generate dataset\n",
    "prob_mtx_train = artm_model.transform(tr_bv)\n",
    "def generate_dataset(m, train_bv, test_bv):\n",
    "    m_transformed = m.transform(train_bv)\n",
    "    X_tr = []\n",
    "\n",
    "    for i in tqdm(range(len(tr_ans))):\n",
    "        X_tr.append(m_transformed[i].values)\n",
    "    X_tr = np.array(X_tr)\n",
    "    y_tr = np.array(tr_ans)\n",
    "    X_tr, y_tr = shuffle(X_tr, y_tr,random_state=42)\n",
    "\n",
    "    mtx_tst = m.transform(test_bv)\n",
    "    X_tst = []\n",
    "    \n",
    "    for i in tqdm(range(len(tst_ans))):\n",
    "        X_tst.append(mtx_tst[i].values)\n",
    "    \n",
    "    return X_tr, y_tr, X_tst\n",
    "\n",
    "\n",
    "X_def_tr, y_def_tr, X_def_test = generate_dataset(artm_model, tr_bv, tst_bv)\n",
    "\n",
    "# creating classifier\n",
    "classifier = RandomForestClassifier(n_estimators=10)\n",
    "classifier.fit(X_def_tr, y_def_tr)\n",
    "out = classifier.predict(X_def_test)\n",
    "\n",
    "# reporting\n",
    "print(sklearn.metrics.classification_report(tst_ans, out, zero_division=1))"
   ]
  },
  {
   "cell_type": "markdown",
   "id": "9307dc50-180f-4e8d-b015-ff58e03e38aa",
   "metadata": {},
   "source": [
    "## Adding regulators"
   ]
  },
  {
   "cell_type": "markdown",
   "id": "26a00d8b-1c07-4084-a84b-fbf4d167c6bd",
   "metadata": {},
   "source": [
    "### Let's add topics"
   ]
  },
  {
   "cell_type": "code",
   "execution_count": 21,
   "id": "d520daaf-b5e2-4a7f-b2f4-34748092323d",
   "metadata": {},
   "outputs": [],
   "source": [
    "# creating artm model\n",
    "model_for_topic = artm.ARTM(num_topics=96, dictionary=artm_dict,\n",
    "                  class_ids={'@default_class': 1.0, '@topic': 3.0}, cache_theta=False)\n",
    "\n",
    "# writing the log\n",
    "wr_topic = SummaryWriter(log_dir = f'{ARTM_MODEL_PATH}/log/topic_model')\n",
    "\n",
    "\n",
    "# add scored with IDs of classes\n",
    "# adding scores\n",
    "model_for_topic.scores.add(artm.PerplexityScore(name='PerplexityScore', dictionary=artm_dict))\n",
    "model_for_topic.scores.add(artm.SparsityPhiScore(name='SparcityPhiTopic', class_id='@topic'))\n",
    "model_for_topic.scores.add(artm.SparsityPhiScore(name='SparcityPhiMonth', class_id='@month'))\n",
    "\n",
    "# fitting values from model\n",
    "for instance in range(15):\n",
    "    model_for_topic.fit_offline(tr_bv, num_collection_passes=1)\n",
    "    score = model_for_topic.score_tracker['PerplexityScore'].value[-1]\n",
    "    wr_topic.add_scalar('PerplexityScore/train', score, 0)\n",
    "    tag_val = model_for_topic.score_tracker['SparcityPhiTopic'].value[-1]\n",
    "    wr_topic.add_scalar('SparcityPhiTopic/train', tag_val, 0)\n",
    "\n",
    "# saving model\n",
    "model_for_topic.dump_artm_model(f'{ARTM_MODEL_PATH}/topic_model/')"
   ]
  },
  {
   "cell_type": "markdown",
   "id": "6e2512a2",
   "metadata": {},
   "source": [
    "### Drawing graph "
   ]
  },
  {
   "cell_type": "code",
   "execution_count": 22,
   "id": "9b0d9528-65a5-4767-ba10-4b90b1d7a074",
   "metadata": {},
   "outputs": [
    {
     "data": {
      "image/png": "[encoded data removed]",
      "text/plain": [
       "<Figure size 1500x500 with 1 Axes>"
      ]
     },
     "metadata": {},
     "output_type": "display_data"
    }
   ],
   "source": [
    "plt.style.use('dark_background')\n",
    "plt.figure(figsize=(15,5))\n",
    "\n",
    "plt.plot(model_for_topic.score_tracker['SparcityPhiTopic'].value, label = 'SPT')\n",
    "plt.xlabel('SPT step')\n",
    "plt.ylabel('SPT')\n",
    "plt.legend()\n",
    "plt.show()"
   ]
  },
  {
   "cell_type": "code",
   "execution_count": 23,
   "id": "1147a2e6-aadc-4b7b-a57c-f845bf2ba635",
   "metadata": {},
   "outputs": [
    {
     "name": "stdout",
     "output_type": "stream",
     "text": [
      "              precision    recall  f1-score   support\n",
      "\n",
      "        1999       0.20      0.58      0.29      1000\n",
      "        2000       0.23      0.55      0.32      1000\n",
      "        2001       0.11      0.10      0.11      1000\n",
      "        2002       0.12      0.08      0.10      1000\n",
      "        2003       0.17      0.15      0.16      1000\n",
      "        2004       0.11      0.13      0.12      1000\n",
      "        2005       0.16      0.14      0.15      1000\n",
      "        2006       0.13      0.08      0.10      1000\n",
      "        2007       0.11      0.06      0.08      1000\n",
      "        2008       0.14      0.09      0.11      1000\n",
      "        2009       0.22      0.11      0.14      1000\n",
      "        2010       0.09      0.07      0.08      1000\n",
      "        2011       0.13      0.08      0.10      1000\n",
      "        2012       0.11      0.07      0.09      1000\n",
      "        2013       0.12      0.10      0.11      1000\n",
      "        2014       0.14      0.12      0.13      1000\n",
      "        2015       0.22      0.20      0.21      1000\n",
      "        2016       0.15      0.18      0.17      1000\n",
      "        2017       0.19      0.16      0.17      1000\n",
      "        2018       0.18      0.27      0.21      1000\n",
      "        2019       0.16      0.18      0.17      1000\n",
      "        2020       0.43      0.20      0.27      1000\n",
      "\n",
      "    accuracy                           0.17     22000\n",
      "   macro avg       0.16      0.17      0.15     22000\n",
      "weighted avg       0.16      0.17      0.15     22000\n",
      "\n"
     ]
    }
   ],
   "source": [
    "# transforming train\n",
    "transformed_model_for_topic = model_for_topic.transform(tr_bv)\n",
    "train_x_topic = [transformed_model_for_topic[instance].values for instance in range(len(tr_ans))]\n",
    "\n",
    "# getting numpy arrays\n",
    "x_ttn = np.array(train_x_topic)\n",
    "y_ttn = np.array(tr_ans)\n",
    "# shuffling \n",
    "x_ttn, y_ttn = shuffle(x_ttn, y_ttn, random_state=42)\n",
    "\n",
    "# transforming test\n",
    "test_model_topic_transformed = model_for_topic.transform(tst_bv)\n",
    "x_tt = [test_model_topic_transformed[instance].values for instance in range(len(tst_ans))]\n",
    "\n",
    "\n",
    "# starting classifier with more estimators\n",
    "classifier = RandomForestClassifier(n_estimators=96)\n",
    "classifier.fit(x_ttn, y_ttn)\n",
    "out = classifier.predict(x_tt)\n",
    "print(sklearn.metrics.classification_report(tst_ans, out, zero_division=1))"
   ]
  },
  {
   "cell_type": "markdown",
   "id": "9c0f973d-4295-466b-bb23-6a22c93ae230",
   "metadata": {},
   "source": [
    "### Let's consider month as well"
   ]
  },
  {
   "cell_type": "code",
   "execution_count": 24,
   "id": "5256a2b6-04c4-416d-8c11-8ec64ac26a40",
   "metadata": {},
   "outputs": [],
   "source": [
    "mm = artm.ARTM(num_topics=96, dictionary=artm_dict,\n",
    "                  class_ids={'@default_class': 1.0, '@month': 5.0}, cache_theta=False)\n",
    "m_wr = SummaryWriter(log_dir = f'{ARTM_MODEL_PATH}/log/month_model')\n",
    "\n",
    "# add scores\n",
    "mm.scores.add(artm.PerplexityScore(name='PerplexityScore', dictionary=artm_dict))\n",
    "mm.scores.add(artm.SparsityPhiScore(name='SparcityPhiMonth', class_id='@month'))\n",
    "\n",
    "for instance in range(15):\n",
    "    mm.fit_offline(tr_bv, num_collection_passes=1)\n",
    "    score = mm.score_tracker['PerplexityScore'].value[-1]\n",
    "    m_wr.add_scalar('PerplexityScore/train', score, 0)\n",
    "    month_val = mm.score_tracker['SparcityPhiMonth'].value[-1]\n",
    "    m_wr.add_scalar('SparcityPhiMonth/train', month_val, 0)\n",
    "\n",
    "# save model\n",
    "mm.dump_artm_model(f'{ARTM_MODEL_PATH}/month_model/')"
   ]
  },
  {
   "cell_type": "code",
   "execution_count": 25,
   "id": "9f28ddb4-c754-40c8-9db3-a45b2dc62b26",
   "metadata": {},
   "outputs": [
    {
     "data": {
      "application/vnd.jupyter.widget-view+json": {
       "model_id": "0ceb2a8fb1b3463db56e0e9e1b806dcc",
       "version_major": 2,
       "version_minor": 0
      },
      "text/plain": [
       "  0%|          | 0/22000 [00:00<?, ?it/s]"
      ]
     },
     "metadata": {},
     "output_type": "display_data"
    },
    {
     "data": {
      "application/vnd.jupyter.widget-view+json": {
       "model_id": "570802f3702d4a8799589173bf0c533f",
       "version_major": 2,
       "version_minor": 0
      },
      "text/plain": [
       "  0%|          | 0/22000 [00:00<?, ?it/s]"
      ]
     },
     "metadata": {},
     "output_type": "display_data"
    },
    {
     "name": "stdout",
     "output_type": "stream",
     "text": [
      "              precision    recall  f1-score   support\n",
      "\n",
      "        1999       0.15      0.36      0.22      1000\n",
      "        2000       0.20      0.33      0.25      1000\n",
      "        2001       0.15      0.16      0.16      1000\n",
      "        2002       0.17      0.14      0.15      1000\n",
      "        2003       0.17      0.15      0.16      1000\n",
      "        2004       0.13      0.16      0.15      1000\n",
      "        2005       0.22      0.16      0.18      1000\n",
      "        2006       0.13      0.08      0.10      1000\n",
      "        2007       0.11      0.06      0.07      1000\n",
      "        2008       0.13      0.10      0.12      1000\n",
      "        2009       0.20      0.11      0.14      1000\n",
      "        2010       0.11      0.13      0.12      1000\n",
      "        2011       0.14      0.13      0.14      1000\n",
      "        2012       0.12      0.11      0.11      1000\n",
      "        2013       0.10      0.14      0.12      1000\n",
      "        2014       0.19      0.17      0.18      1000\n",
      "        2015       0.27      0.22      0.24      1000\n",
      "        2016       0.20      0.24      0.22      1000\n",
      "        2017       0.23      0.17      0.20      1000\n",
      "        2018       0.21      0.28      0.24      1000\n",
      "        2019       0.19      0.18      0.19      1000\n",
      "        2020       0.47      0.21      0.29      1000\n",
      "\n",
      "    accuracy                           0.17     22000\n",
      "   macro avg       0.18      0.17      0.17     22000\n",
      "weighted avg       0.18      0.17      0.17     22000\n",
      "\n"
     ]
    }
   ],
   "source": [
    "X_month_train, y_month_train, X_month_test = generate_dataset(mm, tr_bv, tst_bv)\n",
    "classifier = RandomForestClassifier(n_estimators=96)\n",
    "classifier.fit(X_month_train, y_month_train)\n",
    "out = classifier.predict(X_month_test)\n",
    "print(sklearn.metrics.classification_report(tst_ans, out, zero_division=1))"
   ]
  },
  {
   "cell_type": "markdown",
   "id": "b25509bd-722b-40d0-866d-b7be896f0f18",
   "metadata": {},
   "source": [
    "### Add both"
   ]
  },
  {
   "cell_type": "code",
   "execution_count": 26,
   "id": "2fe0dbf5-885d-4815-a597-7d5fb64d0b2d",
   "metadata": {},
   "outputs": [],
   "source": [
    "m_tda = artm.Dictionary()\n",
    "m_tda.gather(data_path=f'{BATCH_PT}/train_batches')\n",
    "mtm = artm.ARTM(num_topics=96, dictionary=m_tda,\n",
    "                  class_ids={'@default_class': 1.0, '@month': 15.0, '@topic': 15.0}, cache_theta=False)\n",
    "mt_wr = SummaryWriter(log_dir = f'{ARTM_MODEL_PATH}/log/month_topic_model')\n",
    "\n",
    "# add scores\n",
    "mtm.scores.add(artm.PerplexityScore(name='PerplexityScore', dictionary=m_tda))\n",
    "mtm.scores.add(artm.SparsityPhiScore(name='SparcityPhiMonth', class_id='@month'))\n",
    "\n",
    "for instance in range(15):\n",
    "    mtm.fit_offline(tr_bv, num_collection_passes=1)\n",
    "    score = mtm.score_tracker['PerplexityScore'].value[-1]\n",
    "    mt_wr.add_scalar('PerplexityScore/train', score, 0)\n",
    "    tag_val = model_for_topic.score_tracker['SparcityPhiTopic'].value[-1]\n",
    "    wr_topic.add_scalar('SparcityPhiTopic/train', tag_val, 0)\n",
    "    month_val = mtm.score_tracker['SparcityPhiMonth'].value[-1]\n",
    "    mt_wr.add_scalar('SparcityPhiMonth/train', month_val, 0)\n",
    "\n",
    "# save model\n",
    "mtm.dump_artm_model(f'{ARTM_MODEL_PATH}/month_topic_model/')"
   ]
  },
  {
   "cell_type": "code",
   "execution_count": 27,
   "id": "ee411f5a-bb4d-459c-b2b4-9fbf5f05d55c",
   "metadata": {},
   "outputs": [
    {
     "data": {
      "application/vnd.jupyter.widget-view+json": {
       "model_id": "6d11864e058842608605f9fad764ebd3",
       "version_major": 2,
       "version_minor": 0
      },
      "text/plain": [
       "  0%|          | 0/22000 [00:00<?, ?it/s]"
      ]
     },
     "metadata": {},
     "output_type": "display_data"
    },
    {
     "data": {
      "application/vnd.jupyter.widget-view+json": {
       "model_id": "ea09220b92e6416a9f2f4bc3288290fd",
       "version_major": 2,
       "version_minor": 0
      },
      "text/plain": [
       "  0%|          | 0/22000 [00:00<?, ?it/s]"
      ]
     },
     "metadata": {},
     "output_type": "display_data"
    }
   ],
   "source": [
    "X_month_topic_train, y_month_topic_train, X_month_topic_test = generate_dataset(mtm, tr_bv, tst_bv)"
   ]
  },
  {
   "cell_type": "code",
   "execution_count": 28,
   "id": "6d7d96e6-5d39-4f52-bcaf-a89ffff0f81a",
   "metadata": {},
   "outputs": [
    {
     "data": {
      "application/vnd.jupyter.widget-view+json": {
       "model_id": "cca3b8f68b2643ac8ce2651ca0f50a69",
       "version_major": 2,
       "version_minor": 0
      },
      "text/plain": [
       "  0%|          | 0/22000 [00:00<?, ?it/s]"
      ]
     },
     "metadata": {},
     "output_type": "display_data"
    },
    {
     "data": {
      "application/vnd.jupyter.widget-view+json": {
       "model_id": "59f1339a4ab544028ea4cb0590041118",
       "version_major": 2,
       "version_minor": 0
      },
      "text/plain": [
       "  0%|          | 0/22000 [00:00<?, ?it/s]"
      ]
     },
     "metadata": {},
     "output_type": "display_data"
    },
    {
     "name": "stdout",
     "output_type": "stream",
     "text": [
      "              precision    recall  f1-score   support\n",
      "\n",
      "        1999       0.59      0.56      0.57      1000\n",
      "        2000       0.27      0.76      0.40      1000\n",
      "        2001       0.13      0.22      0.16      1000\n",
      "        2002       0.15      0.15      0.15      1000\n",
      "        2003       0.13      0.12      0.13      1000\n",
      "        2004       0.11      0.12      0.11      1000\n",
      "        2005       0.23      0.13      0.16      1000\n",
      "        2006       0.17      0.09      0.11      1000\n",
      "        2007       0.11      0.06      0.08      1000\n",
      "        2008       0.17      0.13      0.15      1000\n",
      "        2009       0.24      0.13      0.16      1000\n",
      "        2010       0.12      0.11      0.11      1000\n",
      "        2011       0.14      0.12      0.13      1000\n",
      "        2012       0.17      0.12      0.14      1000\n",
      "        2013       0.09      0.12      0.10      1000\n",
      "        2014       0.23      0.28      0.25      1000\n",
      "        2015       0.27      0.20      0.23      1000\n",
      "        2016       0.19      0.23      0.21      1000\n",
      "        2017       0.21      0.17      0.19      1000\n",
      "        2018       0.20      0.31      0.25      1000\n",
      "        2019       0.21      0.17      0.18      1000\n",
      "        2020       0.51      0.20      0.28      1000\n",
      "\n",
      "    accuracy                           0.20     22000\n",
      "   macro avg       0.21      0.20      0.19     22000\n",
      "weighted avg       0.21      0.20      0.19     22000\n",
      "\n"
     ]
    }
   ],
   "source": [
    "X_month_topic_train, y_month_topic_train, X_month_topic_test = generate_dataset(mtm, tr_bv, tst_bv)\n",
    "\n",
    "classifier = RandomForestClassifier(n_estimators=96)\n",
    "classifier.fit(X_month_topic_train, y_month_topic_train)\n",
    "out = classifier.predict(X_month_topic_test)\n",
    "print(sklearn.metrics.classification_report(tst_ans, out, zero_division=1))"
   ]
  },
  {
   "cell_type": "markdown",
   "id": "5942953a-8790-4efd-a1e3-d87ee1c1f57f",
   "metadata": {},
   "source": [
    "### Finally, adding regulators"
   ]
  },
  {
   "cell_type": "code",
   "execution_count": 29,
   "id": "6a620d18-f6c0-4e80-8b30-ac29b75cfc3d",
   "metadata": {},
   "outputs": [],
   "source": [
    "m_trm = artm.ARTM(num_topics=96, dictionary=m_tda,\n",
    "                  class_ids={'@default_class': 1.0, '@month': 15.0, '@topic': 15.0}, cache_theta=False)\n",
    "m_tr_wr = SummaryWriter(log_dir = f'{ARTM_MODEL_PATH}/log/month_topic_reg_model')\n",
    "\n",
    "# add scores\n",
    "m_trm.scores.add(artm.PerplexityScore(name='PerplexityScore', dictionary=m_tda))\n",
    "m_trm.scores.add(artm.SparsityPhiScore(name='SparcityPhiMonth', class_id='@month'))\n",
    "m_trm.scores.add(artm.SparsityPhiScore(name='SparcityTopic', class_id='@topic'))\n",
    "m_trm.scores.add(artm.SparsityPhiScore(name='SparcityMonth', class_id='@month'))\n",
    "\n",
    "m_trm.regularizers.add(artm.SmoothSparsePhiRegularizer(\n",
    "    name='smooth_sparse_phi_regularizer',\n",
    "    tau=-0.15,\n",
    "    class_ids=['@default_class', '@month', '@topic'])\n",
    ")\n",
    "\n",
    "for instance in range(15):\n",
    "    m_trm.fit_offline(tr_bv, num_collection_passes=1)\n",
    "    score = m_trm.score_tracker['PerplexityScore'].value[-1]\n",
    "    m_tr_wr.add_scalar('PerplexityScore/train', score, 0)\n",
    "    tag_val = model_for_topic.score_tracker['SparcityPhiTopic'].value[-1]\n",
    "    wr_topic.add_scalar('SparcityPhiTopic/train', tag_val, 0)\n",
    "    month_val = m_trm.score_tracker['SparcityPhiMonth'].value[-1]\n",
    "    m_tr_wr.add_scalar('SparcityPhiMonth/train', month_val, 0)\n",
    "    sp_topic = m_trm.score_tracker['SparcityTopic'].value[-1]\n",
    "    m_tr_wr.add_scalar('SparcityTopic/train', sp_topic, 0)\n",
    "\n",
    "    sp_month = m_trm.score_tracker['SparcityMonth'].value[-1]\n",
    "    m_tr_wr.add_scalar('SparcityTopic/train', sp_month, 0)\n",
    "    \n",
    "\n",
    "m_trm.dump_artm_model(f'{ARTM_MODEL_PATH}/month_topic_reg_model/')"
   ]
  },
  {
   "cell_type": "code",
   "execution_count": 30,
   "id": "ddde7070-ee4f-4c3b-9212-d6698535178e",
   "metadata": {},
   "outputs": [
    {
     "data": {
      "application/vnd.jupyter.widget-view+json": {
       "model_id": "45fbbdae842548288bb14f20b6eec8cc",
       "version_major": 2,
       "version_minor": 0
      },
      "text/plain": [
       "  0%|          | 0/22000 [00:00<?, ?it/s]"
      ]
     },
     "metadata": {},
     "output_type": "display_data"
    },
    {
     "data": {
      "application/vnd.jupyter.widget-view+json": {
       "model_id": "9ddde958185d43b0a15d6bac7feee4b3",
       "version_major": 2,
       "version_minor": 0
      },
      "text/plain": [
       "  0%|          | 0/22000 [00:00<?, ?it/s]"
      ]
     },
     "metadata": {},
     "output_type": "display_data"
    },
    {
     "name": "stdout",
     "output_type": "stream",
     "text": [
      "              precision    recall  f1-score   support\n",
      "\n",
      "        1999       0.59      0.52      0.55      1000\n",
      "        2000       0.28      0.72      0.41      1000\n",
      "        2001       0.15      0.20      0.17      1000\n",
      "        2002       0.16      0.19      0.17      1000\n",
      "        2003       0.15      0.16      0.16      1000\n",
      "        2004       0.14      0.15      0.14      1000\n",
      "        2005       0.24      0.17      0.20      1000\n",
      "        2006       0.19      0.12      0.15      1000\n",
      "        2007       0.13      0.07      0.09      1000\n",
      "        2008       0.16      0.13      0.14      1000\n",
      "        2009       0.23      0.13      0.17      1000\n",
      "        2010       0.15      0.12      0.13      1000\n",
      "        2011       0.18      0.16      0.17      1000\n",
      "        2012       0.15      0.13      0.14      1000\n",
      "        2013       0.11      0.11      0.11      1000\n",
      "        2014       0.23      0.28      0.25      1000\n",
      "        2015       0.24      0.22      0.23      1000\n",
      "        2016       0.19      0.20      0.20      1000\n",
      "        2017       0.21      0.17      0.19      1000\n",
      "        2018       0.21      0.32      0.25      1000\n",
      "        2019       0.21      0.22      0.22      1000\n",
      "        2020       0.44      0.19      0.26      1000\n",
      "\n",
      "    accuracy                           0.21     22000\n",
      "   macro avg       0.21      0.21      0.20     22000\n",
      "weighted avg       0.21      0.21      0.20     22000\n",
      "\n"
     ]
    }
   ],
   "source": [
    "X_month_topic_reg_train, y_month_topic_reg_train, X_month_topic_reg_test = generate_dataset(m_trm, tr_bv, tst_bv)\n",
    "\n",
    "classifier = RandomForestClassifier(n_estimators=96)\n",
    "classifier.fit(X_month_topic_reg_train, y_month_topic_reg_train)\n",
    "out = classifier.predict(X_month_topic_reg_test)\n",
    "print(sklearn.metrics.classification_report(tst_ans, out, zero_division=1))"
   ]
  },
  {
   "cell_type": "code",
   "execution_count": null,
   "id": "ea9c561e-3138-4352-8730-84328cc8279c",
   "metadata": {},
   "outputs": [],
   "source": [
    "%load_ext tensorboard\n",
    "%tensorboard --logdir './taskmodeling/model/log'"
   ]
  },
  {
   "cell_type": "markdown",
   "id": "e63471a3-540d-471f-ad74-5285dca07513",
   "metadata": {},
   "source": [
    "# Results\n",
    "\n",
    "Results were not as good as expected.\n",
    "- I wasn't able to get a high accuracy. The key problem here is the fact that it's not possible to determine the year of an article.\n",
    "- Should probably use predictions using keywords (for example, \"earthquakes\" etc.).\n",
    "- Model if very memory-inefficient, took more than 30gb...\n",
    "- Should definetely cache theta matrix when working with a model,\n",
    "- Adding tag, month and regulators still helped to increase the accuracy."
   ]
  }
 ],
 "metadata": {
  "kernelspec": {
   "display_name": "Python 3 (ipykernel)",
   "language": "python",
   "name": "python3"
  },
  "language_info": {
   "codemirror_mode": {
    "name": "ipython",
    "version": 3
   },
   "file_extension": ".py",
   "mimetype": "text/x-python",
   "name": "python",
   "nbconvert_exporter": "python",
   "pygments_lexer": "ipython3",
   "version": "3.10.12"
  }
 },
 "nbformat": 4,
 "nbformat_minor": 5
}
